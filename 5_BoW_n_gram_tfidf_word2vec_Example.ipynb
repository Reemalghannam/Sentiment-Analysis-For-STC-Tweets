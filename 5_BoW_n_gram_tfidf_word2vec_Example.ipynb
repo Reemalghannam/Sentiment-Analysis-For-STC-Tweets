{
  "nbformat": 4,
  "nbformat_minor": 0,
  "metadata": {
    "colab": {
      "name": "5_BoW n_gram tfidf word2vec Example.ipynb",
      "provenance": [],
      "collapsed_sections": []
    },
    "kernelspec": {
      "name": "python3",
      "display_name": "Python 3"
    }
  },
  "cells": [
    {
      "cell_type": "markdown",
      "metadata": {
        "id": "WJzWoTeP_oMQ"
      },
      "source": [
        "# **BoW**"
      ]
    },
    {
      "cell_type": "code",
      "metadata": {
        "id": "TS1AWgGpJMXI"
      },
      "source": [
        "sample = ['problem of evil',\n",
        "          'evil queen',\n",
        "          'horizon problem']"
      ],
      "execution_count": 1,
      "outputs": []
    },
    {
      "cell_type": "code",
      "metadata": {
        "id": "vIxq6SbEJnDO",
        "outputId": "dc321cb8-1b30-4f8c-e1f7-979847ce26bd",
        "colab": {
          "base_uri": "https://localhost:8080/",
          "height": 87
        }
      },
      "source": [
        "#For a vectorization of this data based on word count (BoW), we could construct a column \n",
        "#representing the word \"problem,\" the word \"evil,\" the word \"horizon,\" and so on.\n",
        "\n",
        "from sklearn.feature_extraction.text import CountVectorizer\n",
        "import pandas as pd\n",
        "\n",
        "vec = CountVectorizer()\n",
        "X = vec.fit_transform(sample)\n",
        "#print(X)\n",
        "#print(\"shape:\",X.shape)\n",
        "#pd.DataFrame(X.toarray(), columns=vec.get_feature_names())\n",
        "\n",
        "df = pd.DataFrame()\n",
        "df['vocabulary'] = vec.get_feature_names()\n",
        "df['document1 vector'] = X.toarray()[0]\n",
        "df['document2 vector'] = X.toarray()[1]\n",
        "df['document3 vector'] = X.toarray()[2]\n",
        "df.set_index('vocabulary', inplace=True)\n",
        "print(df.T)\n",
        "\n",
        "#The result is a sparse matrix recording the number of times each word appears; \n",
        "#it is easier to inspect if we convert this to a DataFrame with labeled columns:"
      ],
      "execution_count": 5,
      "outputs": [
        {
          "output_type": "stream",
          "text": [
            "vocabulary        evil  horizon  of  problem  queen\n",
            "document1 vector     1        0   1        1      0\n",
            "document2 vector     1        0   0        0      1\n",
            "document3 vector     0        1   0        1      0\n"
          ],
          "name": "stdout"
        }
      ]
    },
    {
      "cell_type": "markdown",
      "metadata": {
        "id": "y-qsyexBi0ge"
      },
      "source": [
        "# **N-grams**"
      ]
    },
    {
      "cell_type": "code",
      "metadata": {
        "id": "YNKzr-pnyfPA",
        "outputId": "20b149af-b547-4509-cc68-bc0fef3d9b0f",
        "colab": {
          "base_uri": "https://localhost:8080/",
          "height": 158
        }
      },
      "source": [
        "#n-grams is a sequence of N-words in a sentence. Captures the context in which the words are used together (e.g. San Fransisco).  sparce.\n",
        "#The bag of words is sparce and does not take into consideration the order of the words in which they appear in a document, and only individual words are counted.\n",
        "\n",
        "from nltk import ngrams #nltk ia a suite of libraries and programs for symbolic and statistical natural language processing\n",
        "\n",
        "for sentence in sample:\n",
        "  ngram = ngrams(sentence.split(' '), n=2)\n",
        "  for x in ngram:\n",
        "    print(x)\n",
        "\n",
        "#OR\n",
        "vectorizer = CountVectorizer(ngram_range=(2,2))\n",
        "# The ngram range specifies your ngram configuration.\n",
        "X = vectorizer.fit_transform(sample)\n",
        "# Testing the ngram generation:\n",
        "print(vectorizer.get_feature_names())\n",
        "print(X.toarray())"
      ],
      "execution_count": 7,
      "outputs": [
        {
          "output_type": "stream",
          "text": [
            "('problem', 'of')\n",
            "('of', 'evil')\n",
            "('evil', 'queen')\n",
            "('horizon', 'problem')\n",
            "['evil queen', 'horizon problem', 'of evil', 'problem of']\n",
            "[[0 0 1 1]\n",
            " [1 0 0 0]\n",
            " [0 1 0 0]]\n"
          ],
          "name": "stdout"
        }
      ]
    },
    {
      "cell_type": "markdown",
      "metadata": {
        "id": "ERIDXaWvi47G"
      },
      "source": [
        "# **TF-IDF**"
      ]
    },
    {
      "cell_type": "code",
      "metadata": {
        "id": "ZME58T7zJ0I5",
        "outputId": "8b5c209b-cb1d-427d-bfee-99b3e804ea8b",
        "colab": {
          "base_uri": "https://localhost:8080/",
          "height": 137
        }
      },
      "source": [
        "#There are some issues with BoW, however: the raw word counts lead to features which put too much weight on \n",
        "#words that appear very frequently, and this can be sub-optimal in some classification algorithms. One approach to \n",
        "#fix this is known as term frequency-inverse document frequency (TF–IDF) which weights the word counts by a measure of  how often they \n",
        "#appear in the documents. The syntax for computing these features is similar to the previous example:\n",
        "\n",
        "from sklearn.feature_extraction.text import TfidfVectorizer\n",
        "def createtfidf(sample):\n",
        "  vec = TfidfVectorizer()# or vec = TfidfVectorizer(ngram_range=(2,2), norm=None) # You can still specify n-grams here.\n",
        "  X = vec.fit_transform(sample) \n",
        "  return pd.DataFrame(X.toarray(), columns=vec.get_feature_names())\n",
        "\n",
        "createtfidf(sample)\n",
        "\n",
        "#Detailed\n",
        "#from sklearn.feature_extraction.text import TfidfVectorizer\n",
        "#vec = TfidfVectorizer()\n",
        "#vec.fit(sample)\n",
        "#X = vec.transform(sample)\n",
        "#pd.DataFrame(X.toarray(), columns=vec.get_feature_names())"
      ],
      "execution_count": null,
      "outputs": [
        {
          "output_type": "execute_result",
          "data": {
            "text/html": [
              "<div>\n",
              "<style scoped>\n",
              "    .dataframe tbody tr th:only-of-type {\n",
              "        vertical-align: middle;\n",
              "    }\n",
              "\n",
              "    .dataframe tbody tr th {\n",
              "        vertical-align: top;\n",
              "    }\n",
              "\n",
              "    .dataframe thead th {\n",
              "        text-align: right;\n",
              "    }\n",
              "</style>\n",
              "<table border=\"1\" class=\"dataframe\">\n",
              "  <thead>\n",
              "    <tr style=\"text-align: right;\">\n",
              "      <th></th>\n",
              "      <th>evil</th>\n",
              "      <th>horizon</th>\n",
              "      <th>of</th>\n",
              "      <th>problem</th>\n",
              "      <th>queen</th>\n",
              "    </tr>\n",
              "  </thead>\n",
              "  <tbody>\n",
              "    <tr>\n",
              "      <th>0</th>\n",
              "      <td>0.517856</td>\n",
              "      <td>0.000000</td>\n",
              "      <td>0.680919</td>\n",
              "      <td>0.517856</td>\n",
              "      <td>0.000000</td>\n",
              "    </tr>\n",
              "    <tr>\n",
              "      <th>1</th>\n",
              "      <td>0.605349</td>\n",
              "      <td>0.000000</td>\n",
              "      <td>0.000000</td>\n",
              "      <td>0.000000</td>\n",
              "      <td>0.795961</td>\n",
              "    </tr>\n",
              "    <tr>\n",
              "      <th>2</th>\n",
              "      <td>0.000000</td>\n",
              "      <td>0.795961</td>\n",
              "      <td>0.000000</td>\n",
              "      <td>0.605349</td>\n",
              "      <td>0.000000</td>\n",
              "    </tr>\n",
              "  </tbody>\n",
              "</table>\n",
              "</div>"
            ],
            "text/plain": [
              "       evil   horizon        of   problem     queen\n",
              "0  0.517856  0.000000  0.680919  0.517856  0.000000\n",
              "1  0.605349  0.000000  0.000000  0.000000  0.795961\n",
              "2  0.000000  0.795961  0.000000  0.605349  0.000000"
            ]
          },
          "metadata": {
            "tags": []
          },
          "execution_count": 6
        }
      ]
    },
    {
      "cell_type": "code",
      "metadata": {
        "id": "2iwTnjCXNEMM",
        "outputId": "6fa7e0d9-7290-4ba0-892f-5cae8cd6518b",
        "colab": {
          "base_uri": "https://localhost:8080/",
          "height": 137
        }
      },
      "source": [
        "#We’ll change the first message from 'problem of evil' to 'problem problem problem of evil'. \n",
        "#We should expect the term frequency for 'problem' to increase and therefore the TF-IDF value for problem in the first message to increase.\n",
        "\n",
        "sample2 = ['problem problem problem of evil',\n",
        "          'evil queen',\n",
        "          'horizon problem']\n",
        "createtfidf(sample2)\n",
        "\n",
        "#the values for other words in the first message have decreased. Their term frequency has decreased as there are now more words in the message \n",
        "#so the TF-IDF will decrease as well. Also, the value for 'problem' in the second message is unchanged from our first example. \n",
        "#This is because we haven’t done anything to change the IDF portion of the TF-IDF. Both examples contain 'problem' in both messages."
      ],
      "execution_count": null,
      "outputs": [
        {
          "output_type": "execute_result",
          "data": {
            "text/html": [
              "<div>\n",
              "<style scoped>\n",
              "    .dataframe tbody tr th:only-of-type {\n",
              "        vertical-align: middle;\n",
              "    }\n",
              "\n",
              "    .dataframe tbody tr th {\n",
              "        vertical-align: top;\n",
              "    }\n",
              "\n",
              "    .dataframe thead th {\n",
              "        text-align: right;\n",
              "    }\n",
              "</style>\n",
              "<table border=\"1\" class=\"dataframe\">\n",
              "  <thead>\n",
              "    <tr style=\"text-align: right;\">\n",
              "      <th></th>\n",
              "      <th>evil</th>\n",
              "      <th>horizon</th>\n",
              "      <th>of</th>\n",
              "      <th>problem</th>\n",
              "      <th>queen</th>\n",
              "    </tr>\n",
              "  </thead>\n",
              "  <tbody>\n",
              "    <tr>\n",
              "      <th>0</th>\n",
              "      <td>0.291992</td>\n",
              "      <td>0.000000</td>\n",
              "      <td>0.383935</td>\n",
              "      <td>0.875976</td>\n",
              "      <td>0.000000</td>\n",
              "    </tr>\n",
              "    <tr>\n",
              "      <th>1</th>\n",
              "      <td>0.605349</td>\n",
              "      <td>0.000000</td>\n",
              "      <td>0.000000</td>\n",
              "      <td>0.000000</td>\n",
              "      <td>0.795961</td>\n",
              "    </tr>\n",
              "    <tr>\n",
              "      <th>2</th>\n",
              "      <td>0.000000</td>\n",
              "      <td>0.795961</td>\n",
              "      <td>0.000000</td>\n",
              "      <td>0.605349</td>\n",
              "      <td>0.000000</td>\n",
              "    </tr>\n",
              "  </tbody>\n",
              "</table>\n",
              "</div>"
            ],
            "text/plain": [
              "       evil   horizon        of   problem     queen\n",
              "0  0.291992  0.000000  0.383935  0.875976  0.000000\n",
              "1  0.605349  0.000000  0.000000  0.000000  0.795961\n",
              "2  0.000000  0.795961  0.000000  0.605349  0.000000"
            ]
          },
          "metadata": {
            "tags": []
          },
          "execution_count": 11
        }
      ]
    },
    {
      "cell_type": "code",
      "metadata": {
        "id": "tcCuaTIy0wTC",
        "outputId": "e199013c-bb0a-4bf1-dffb-a1dd1c9ab4a4",
        "colab": {
          "base_uri": "https://localhost:8080/",
          "height": 137
        }
      },
      "source": [
        "#lets try manipulate the messages to change the IDF portion of the TF-IDF.We’ll change our second message from 'horizon problem' \n",
        "#to \"horizon'. Now the word 'problem' only occurs in one message so we should expect its value to increase as its IDF value is increasing.\n",
        "\n",
        "sample3 = ['problem problem problem of evil',\n",
        "          'evil queen',\n",
        "          'horizon']\n",
        "createtfidf(sample3)"
      ],
      "execution_count": null,
      "outputs": [
        {
          "output_type": "execute_result",
          "data": {
            "text/html": [
              "<div>\n",
              "<style scoped>\n",
              "    .dataframe tbody tr th:only-of-type {\n",
              "        vertical-align: middle;\n",
              "    }\n",
              "\n",
              "    .dataframe tbody tr th {\n",
              "        vertical-align: top;\n",
              "    }\n",
              "\n",
              "    .dataframe thead th {\n",
              "        text-align: right;\n",
              "    }\n",
              "</style>\n",
              "<table border=\"1\" class=\"dataframe\">\n",
              "  <thead>\n",
              "    <tr style=\"text-align: right;\">\n",
              "      <th></th>\n",
              "      <th>evil</th>\n",
              "      <th>horizon</th>\n",
              "      <th>of</th>\n",
              "      <th>problem</th>\n",
              "      <th>queen</th>\n",
              "    </tr>\n",
              "  </thead>\n",
              "  <tbody>\n",
              "    <tr>\n",
              "      <th>0</th>\n",
              "      <td>0.233832</td>\n",
              "      <td>0.0</td>\n",
              "      <td>0.307461</td>\n",
              "      <td>0.922383</td>\n",
              "      <td>0.000000</td>\n",
              "    </tr>\n",
              "    <tr>\n",
              "      <th>1</th>\n",
              "      <td>0.605349</td>\n",
              "      <td>0.0</td>\n",
              "      <td>0.000000</td>\n",
              "      <td>0.000000</td>\n",
              "      <td>0.795961</td>\n",
              "    </tr>\n",
              "    <tr>\n",
              "      <th>2</th>\n",
              "      <td>0.000000</td>\n",
              "      <td>1.0</td>\n",
              "      <td>0.000000</td>\n",
              "      <td>0.000000</td>\n",
              "      <td>0.000000</td>\n",
              "    </tr>\n",
              "  </tbody>\n",
              "</table>\n",
              "</div>"
            ],
            "text/plain": [
              "       evil  horizon        of   problem     queen\n",
              "0  0.233832      0.0  0.307461  0.922383  0.000000\n",
              "1  0.605349      0.0  0.000000  0.000000  0.795961\n",
              "2  0.000000      1.0  0.000000  0.000000  0.000000"
            ]
          },
          "metadata": {
            "tags": []
          },
          "execution_count": 12
        }
      ]
    },
    {
      "cell_type": "markdown",
      "metadata": {
        "id": "HVCzdzoWLo1q"
      },
      "source": [
        "**Note:** TfidfVectorizer is the equivalent of CountVectorizer followed by TfidfTransformer"
      ]
    },
    {
      "cell_type": "markdown",
      "metadata": {
        "id": "ndPUfc8R_tek"
      },
      "source": [
        "# **Word2Vec**"
      ]
    },
    {
      "cell_type": "code",
      "metadata": {
        "id": "rW-YFXnd_fFW"
      },
      "source": [
        "sample = ['problem of evil',\n",
        "          'evil queen',\n",
        "          'horizon problem']"
      ],
      "execution_count": 8,
      "outputs": []
    },
    {
      "cell_type": "code",
      "metadata": {
        "id": "o6Q1_k_u_5-m",
        "outputId": "975785f1-3a14-406b-db44-3c2024f392f7",
        "colab": {
          "base_uri": "https://localhost:8080/",
          "height": 70
        }
      },
      "source": [
        "import nltk\n",
        "import gensim\n",
        "nltk.download('punkt')\n",
        "from gensim.models import Word2Vec\n",
        "\n",
        "all_words = [nltk.word_tokenize(sent) for sent in sample]\n",
        "\n",
        "word2vec= Word2Vec (all_words, min_count=2) #include only words in the Word2Vec model that appear at least twice in the corpus.\n",
        "#model = gensim.models.Word2Vec(sentences, size=100, window=5, min_count=5, workers=2)\n",
        "#size: the number of dimensions in the vector space. If the value is 100, then the meaning representation of each word will be a 100-dimensional vector.\n",
        "#window: the number of neighboring words (on each side) considered when building the model.\n",
        "#min_count: words whose frequency is less than this value are ignored.\n",
        "#workers: the number of parallel processes used during the training process. You can speed up the training by setting this to a larger value if you have more than 2 CPU cores on your machine.\n",
        "\n",
        "vocabulary= word2vec.wv.vocab #The model's vocabulary is a dictionary, with the keys being each token (word). \n",
        "\n",
        "print(vocabulary)"
      ],
      "execution_count": 9,
      "outputs": [
        {
          "output_type": "stream",
          "text": [
            "[nltk_data] Downloading package punkt to /root/nltk_data...\n",
            "[nltk_data]   Unzipping tokenizers/punkt.zip.\n",
            "{'problem': <gensim.models.keyedvectors.Vocab object at 0x7f20e7849748>, 'evil': <gensim.models.keyedvectors.Vocab object at 0x7f20e78497b8>}\n"
          ],
          "name": "stdout"
        }
      ]
    },
    {
      "cell_type": "code",
      "metadata": {
        "id": "q9VyCF-tB8CO",
        "outputId": "73474fbd-64b3-46c7-9e2a-9d3d515eab34",
        "colab": {
          "base_uri": "https://localhost:8080/",
          "height": 478
        }
      },
      "source": [
        "#Word2Vec model converts words to their corresponding vectors. Let's see how we can view vector representation of a word..\n",
        "v1 = word2vec.wv['problem']\n",
        "v1"
      ],
      "execution_count": 10,
      "outputs": [
        {
          "output_type": "execute_result",
          "data": {
            "text/plain": [
              "array([ 4.3532243e-03,  5.4906227e-04,  1.6951429e-03,  1.8797563e-03,\n",
              "        2.0063501e-03,  2.0611950e-03, -7.4272836e-04, -3.5881069e-03,\n",
              "       -2.5332409e-03, -4.6822149e-03,  2.4555156e-03, -1.2602224e-03,\n",
              "       -4.5176959e-03,  4.9101971e-03,  1.1482899e-03, -4.9421499e-03,\n",
              "        3.9329231e-03,  4.0613432e-04, -3.2957762e-03, -4.9075210e-03,\n",
              "       -3.9906758e-03,  2.8049382e-03,  1.5063480e-03,  1.4618784e-03,\n",
              "       -4.3085837e-03,  4.7939052e-03,  1.6772733e-03, -4.9810894e-03,\n",
              "       -4.2805793e-03, -3.1284932e-03, -3.3929537e-03, -3.0437706e-03,\n",
              "        4.1656545e-03, -9.7444368e-04,  4.9749026e-03,  1.0092796e-03,\n",
              "        2.3884648e-03,  2.6779745e-03, -4.3290509e-03, -3.2960088e-03,\n",
              "       -2.7309899e-04, -4.2646006e-03, -1.5908709e-03, -8.4851222e-04,\n",
              "        4.5451554e-03,  4.6358756e-03,  4.4557885e-03, -2.0368285e-04,\n",
              "       -3.8463605e-04,  2.4401334e-05,  4.7490420e-03, -3.9129648e-03,\n",
              "       -4.5498712e-03,  5.2227082e-05, -4.8382184e-04,  3.9212620e-03,\n",
              "       -3.4823420e-03, -2.7931645e-03, -1.5745044e-03,  3.9655209e-04,\n",
              "       -3.7584202e-03, -1.9008111e-03, -4.4086734e-03, -2.2915106e-04,\n",
              "        2.5291764e-03,  1.7253836e-03,  4.4778590e-03, -1.4581695e-03,\n",
              "       -1.7851904e-03, -4.4243424e-03, -1.2003873e-04, -4.2386176e-03,\n",
              "        1.3570575e-03, -3.2457362e-03, -3.9872038e-03,  2.5623564e-03,\n",
              "        3.7059765e-03,  2.5431341e-03, -1.3004799e-03, -4.5763399e-03,\n",
              "       -3.9320947e-03,  4.2633940e-03,  2.3386839e-03, -2.1826042e-04,\n",
              "       -2.4661375e-03, -8.3733647e-04, -2.6104483e-03,  5.5043161e-04,\n",
              "        1.0128660e-03, -1.8233703e-03,  6.9457776e-04,  3.7975039e-03,\n",
              "       -9.6544868e-04, -1.0754205e-03,  1.8107173e-03,  1.2796085e-03,\n",
              "        3.3815438e-04, -7.7295850e-04, -3.5438570e-03, -1.0566309e-03],\n",
              "      dtype=float32)"
            ]
          },
          "metadata": {
            "tags": []
          },
          "execution_count": 10
        }
      ]
    },
    {
      "cell_type": "code",
      "metadata": {
        "id": "PSIgs5oiCOTt",
        "outputId": "1051d3cd-0df8-4774-cbaa-ef32ea33636f",
        "colab": {
          "base_uri": "https://localhost:8080/",
          "height": 90
        }
      },
      "source": [
        "sim_words = word2vec.wv.most_similar('problem')#('problem',topn=2) #find the nearest neighbors: the words that are most similar to the word you specified\n",
        "sim_words\n",
        "\n",
        "#('evil', 0.09049832820892334) -> (similar word, similarity index)"
      ],
      "execution_count": 11,
      "outputs": [
        {
          "output_type": "stream",
          "text": [
            "/usr/local/lib/python3.6/dist-packages/gensim/matutils.py:737: FutureWarning: Conversion of the second argument of issubdtype from `int` to `np.signedinteger` is deprecated. In future, it will be treated as `np.int64 == np.dtype(int).type`.\n",
            "  if np.issubdtype(vec.dtype, np.int):\n"
          ],
          "name": "stderr"
        },
        {
          "output_type": "execute_result",
          "data": {
            "text/plain": [
              "[('evil', 0.0488138273358345)]"
            ]
          },
          "metadata": {
            "tags": []
          },
          "execution_count": 11
        }
      ]
    },
    {
      "cell_type": "code",
      "metadata": {
        "id": "GPPD2Dak9DRY",
        "outputId": "a255f9e0-117d-4b83-d413-a9deba818e97",
        "colab": {
          "base_uri": "https://localhost:8080/",
          "height": 90
        }
      },
      "source": [
        "wordsim = word2vec.wv.similarity('problem', 'evil') #computing the cosine similarity between the vectors associated with the words.\n",
        "wordsim"
      ],
      "execution_count": 12,
      "outputs": [
        {
          "output_type": "stream",
          "text": [
            "/usr/local/lib/python3.6/dist-packages/gensim/matutils.py:737: FutureWarning: Conversion of the second argument of issubdtype from `int` to `np.signedinteger` is deprecated. In future, it will be treated as `np.int64 == np.dtype(int).type`.\n",
            "  if np.issubdtype(vec.dtype, np.int):\n"
          ],
          "name": "stderr"
        },
        {
          "output_type": "execute_result",
          "data": {
            "text/plain": [
              "0.04881383"
            ]
          },
          "metadata": {
            "tags": []
          },
          "execution_count": 12
        }
      ]
    },
    {
      "cell_type": "code",
      "metadata": {
        "id": "xMrivbto1rxQ",
        "outputId": "5c648612-273e-45d5-a7cd-a5e16b09f96a",
        "colab": {
          "base_uri": "https://localhost:8080/",
          "height": 126
        }
      },
      "source": [
        "dissimilar= word2vec.wv.doesnt_match(\"evil horizon\".split())#prints the most dissimilar words from these words\n",
        "dissimilar"
      ],
      "execution_count": 19,
      "outputs": [
        {
          "output_type": "stream",
          "text": [
            "/usr/local/lib/python3.6/dist-packages/gensim/models/keyedvectors.py:895: FutureWarning: arrays to stack must be passed as a \"sequence\" type such as list or tuple. Support for non-sequence iterables such as generators is deprecated as of NumPy 1.16 and will raise an error in the future.\n",
            "  vectors = vstack(self.word_vec(word, use_norm=True) for word in used_words).astype(REAL)\n",
            "/usr/local/lib/python3.6/dist-packages/gensim/matutils.py:737: FutureWarning: Conversion of the second argument of issubdtype from `int` to `np.signedinteger` is deprecated. In future, it will be treated as `np.int64 == np.dtype(int).type`.\n",
            "  if np.issubdtype(vec.dtype, np.int):\n"
          ],
          "name": "stderr"
        },
        {
          "output_type": "execute_result",
          "data": {
            "application/vnd.google.colaboratory.intrinsic+json": {
              "type": "string"
            },
            "text/plain": [
              "'evil'"
            ]
          },
          "metadata": {
            "tags": []
          },
          "execution_count": 19
        }
      ]
    },
    {
      "cell_type": "code",
      "metadata": {
        "id": "2X6eulg7WzlI",
        "outputId": "962e930c-768d-4efb-fa1e-bc936316345f",
        "colab": {
          "base_uri": "https://localhost:8080/",
          "height": 72
        }
      },
      "source": [
        "#save model\n",
        "with open(\"word2vecf.model\", \"w\"):\n",
        "  word2vec.save(\"word2vecf\")"
      ],
      "execution_count": 13,
      "outputs": [
        {
          "output_type": "stream",
          "text": [
            "/usr/local/lib/python3.6/dist-packages/smart_open/smart_open_lib.py:252: UserWarning: This function is deprecated, use smart_open.open instead. See the migration notes for details: https://github.com/RaRe-Technologies/smart_open/blob/master/README.rst#migrating-to-the-new-open-function\n",
            "  'See the migration notes for details: %s' % _MIGRATION_NOTES_URL\n"
          ],
          "name": "stderr"
        }
      ]
    },
    {
      "cell_type": "code",
      "metadata": {
        "id": "0pRByqiFcufw",
        "outputId": "42090d08-7dd5-4d9c-d8b1-d9a4def65c47",
        "colab": {
          "base_uri": "https://localhost:8080/",
          "height": 72
        }
      },
      "source": [
        "#load model\n",
        "model = gensim.models.Word2Vec.load(\"word2vecf\")"
      ],
      "execution_count": null,
      "outputs": [
        {
          "output_type": "stream",
          "text": [
            "/usr/local/lib/python3.6/dist-packages/smart_open/smart_open_lib.py:254: UserWarning: This function is deprecated, use smart_open.open instead. See the migration notes for details: https://github.com/RaRe-Technologies/smart_open/blob/master/README.rst#migrating-to-the-new-open-function\n",
            "  'See the migration notes for details: %s' % _MIGRATION_NOTES_URL\n"
          ],
          "name": "stderr"
        }
      ]
    },
    {
      "cell_type": "code",
      "metadata": {
        "id": "POBuVp9idF8H",
        "outputId": "de173917-53b2-46eb-eee3-7398dc9c34be",
        "colab": {
          "base_uri": "https://localhost:8080/",
          "height": 16
        }
      },
      "source": [
        "#download model\n",
        "#from google.colab import files\n",
        "#files.download(\"word2vecf.model\")"
      ],
      "execution_count": null,
      "outputs": [
        {
          "output_type": "display_data",
          "data": {
            "application/javascript": [
              "\n",
              "    async function download(id, filename, size) {\n",
              "      if (!google.colab.kernel.accessAllowed) {\n",
              "        return;\n",
              "      }\n",
              "      const div = document.createElement('div');\n",
              "      const label = document.createElement('label');\n",
              "      label.textContent = `Downloading \"${filename}\": `;\n",
              "      div.appendChild(label);\n",
              "      const progress = document.createElement('progress');\n",
              "      progress.max = size;\n",
              "      div.appendChild(progress);\n",
              "      document.body.appendChild(div);\n",
              "\n",
              "      const buffers = [];\n",
              "      let downloaded = 0;\n",
              "\n",
              "      const channel = await google.colab.kernel.comms.open(id);\n",
              "      // Send a message to notify the kernel that we're ready.\n",
              "      channel.send({})\n",
              "\n",
              "      for await (const message of channel.messages) {\n",
              "        // Send a message to notify the kernel that we're ready.\n",
              "        channel.send({})\n",
              "        if (message.buffers) {\n",
              "          for (const buffer of message.buffers) {\n",
              "            buffers.push(buffer);\n",
              "            downloaded += buffer.byteLength;\n",
              "            progress.value = downloaded;\n",
              "          }\n",
              "        }\n",
              "      }\n",
              "      const blob = new Blob(buffers, {type: 'application/binary'});\n",
              "      const a = document.createElement('a');\n",
              "      a.href = window.URL.createObjectURL(blob);\n",
              "      a.download = filename;\n",
              "      div.appendChild(a);\n",
              "      a.click();\n",
              "      div.remove();\n",
              "    }\n",
              "  "
            ],
            "text/plain": [
              "<IPython.core.display.Javascript object>"
            ]
          },
          "metadata": {
            "tags": []
          }
        },
        {
          "output_type": "display_data",
          "data": {
            "application/javascript": [
              "download(\"download_bb9bdd26-8855-4e77-8b7c-df9b2e27d293\", \"word2vecf.model\", 0)"
            ],
            "text/plain": [
              "<IPython.core.display.Javascript object>"
            ]
          },
          "metadata": {
            "tags": []
          }
        }
      ]
    }
  ]
}